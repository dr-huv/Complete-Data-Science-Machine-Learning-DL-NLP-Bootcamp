{
 "cells": [
  {
   "cell_type": "markdown",
   "metadata": {},
   "source": [
    "Assignment 1"
   ]
  },
  {
   "cell_type": "code",
   "execution_count": null,
   "metadata": {},
   "outputs": [],
   "source": [
    "import sqlite3\n",
    "\n",
    "def create_db(table_name):\n",
    "    return sqlite3.connect(table_name)\n",
    "\n",
    "connection = create_db(\"test.db\")\n",
    "cursor = connection.cursor()\n",
    "\n",
    "def create_table():    \n",
    "    cursor.execute('''\n",
    "        Create Table If Not Exists employees(\n",
    "                            id Integer Primary Key,\n",
    "                            name Text not null,\n",
    "                            age Integer not null,\n",
    "                            department Text not null)\n",
    "                            ''')\n",
    "    \n",
    "    connection.commit()\n",
    "    \n",
    "create_table()"
   ]
  },
  {
   "cell_type": "code",
   "execution_count": 3,
   "metadata": {},
   "outputs": [],
   "source": [
    "connection.commit()"
   ]
  },
  {
   "cell_type": "markdown",
   "metadata": {},
   "source": [
    "Assignment 2"
   ]
  },
  {
   "cell_type": "code",
   "execution_count": 56,
   "metadata": {},
   "outputs": [],
   "source": [
    "employee_data = [\n",
    "    (1,\"Adam\",24,\"CS\"),\n",
    "    (2,\"Bob\",34,\"EC\"),\n",
    "    (3,\"Cindy\",21,\"ET\"),\n",
    "    (4,\"Dan\",23,\"VS\"),\n",
    "    (5,\"Eve\",34,\"VS\")\n",
    "]"
   ]
  },
  {
   "cell_type": "code",
   "execution_count": 55,
   "metadata": {},
   "outputs": [],
   "source": [
    "def insert(data):\n",
    "    cursor.executemany('''\n",
    "        INSERT INTO employees(id,name,age,department) \n",
    "                    values(?,?,?,?)\n",
    "    ''',data)\n",
    "\n",
    "    connection.commit()"
   ]
  },
  {
   "cell_type": "code",
   "execution_count": 11,
   "metadata": {},
   "outputs": [],
   "source": [
    "connection.commit()"
   ]
  },
  {
   "cell_type": "markdown",
   "metadata": {},
   "source": [
    "Assignment 3"
   ]
  },
  {
   "cell_type": "code",
   "execution_count": 52,
   "metadata": {},
   "outputs": [
    {
     "name": "stdout",
     "output_type": "stream",
     "text": [
      "(1, 'Adam', 45, 'CS')\n",
      "(2, 'Bob', 43, 'EC')\n",
      "(3, 'Cindy', 43, 'ET')\n",
      "(4, 'Dan', 43, 'VS')\n",
      "(5, 'Eve', 43, 'VS')\n"
     ]
    }
   ],
   "source": [
    "def query_all():\n",
    "    cursor.execute('SELECT * FROM employees')\n",
    "    rows = cursor.fetchall()\n",
    "\n",
    "    for row in rows:\n",
    "        print(row)\n",
    "\n",
    "query_all()"
   ]
  },
  {
   "cell_type": "code",
   "execution_count": 34,
   "metadata": {},
   "outputs": [
    {
     "name": "stdout",
     "output_type": "stream",
     "text": [
      "(4, 'Dan', 46, 'VS')\n",
      "(5, 'Eve', 43, 'VS')\n"
     ]
    }
   ],
   "source": [
    "def query(id):\n",
    "    cursor.execute(f'SELECT * FROM employees WHERE department = \"{id}\"')\n",
    "    rows = cursor.fetchall()\n",
    "\n",
    "    for row in rows:\n",
    "        print(row)\n",
    "\n",
    "query(\"VS\")"
   ]
  },
  {
   "cell_type": "code",
   "execution_count": 40,
   "metadata": {},
   "outputs": [],
   "source": [
    "def update(id,age):\n",
    "    cursor.execute(f'''UPDATE employees \n",
    "                Set age = {age}\n",
    "                where id = {id}''')\n",
    "    \n",
    "    connection.commit()\n",
    "    \n",
    "update(2,54)"
   ]
  },
  {
   "cell_type": "markdown",
   "metadata": {},
   "source": [
    "Assignment 5"
   ]
  },
  {
   "cell_type": "code",
   "execution_count": 36,
   "metadata": {},
   "outputs": [],
   "source": [
    "def delete(id):\n",
    "    cursor.execute(f'''DELETE from employees\n",
    "                   where id = {id}\n",
    "''')\n",
    "    connection.commit()\n",
    "    \n",
    "delete(4)"
   ]
  },
  {
   "cell_type": "markdown",
   "metadata": {},
   "source": [
    "Assignment 6"
   ]
  },
  {
   "cell_type": "code",
   "execution_count": 43,
   "metadata": {},
   "outputs": [
    {
     "name": "stdout",
     "output_type": "stream",
     "text": [
      "(1, 'Adam', 45, 'CS')\n",
      "(2, 'Bob', 54, 'EC')\n",
      "(2, 'Bob', 54, 'EC')\n"
     ]
    }
   ],
   "source": [
    "def older_than(age):\n",
    "    cursor.execute(f'''SELECT * from employees\n",
    "                   where age > {age}\n",
    "''')\n",
    "    \n",
    "    rows = cursor.fetchall()\n",
    "    for row in rows:\n",
    "        print(row)\n",
    "    \n",
    "older_than(43)\n",
    "\n",
    "def starts_with(letter):\n",
    "    cursor.execute(f'''\n",
    "        SELECT * from employees\n",
    "        where name LIKE \"{letter}%\"\n",
    "''')\n",
    "    \n",
    "    rows = cursor.fetchall()\n",
    "    for row in rows:\n",
    "        print(row)\n",
    "    \n",
    "starts_with('B')"
   ]
  },
  {
   "cell_type": "markdown",
   "metadata": {},
   "source": [
    "Assignment 7"
   ]
  },
  {
   "cell_type": "code",
   "execution_count": 62,
   "metadata": {},
   "outputs": [],
   "source": [
    "cursor.close()\n",
    "connection.close()"
   ]
  },
  {
   "cell_type": "code",
   "execution_count": 60,
   "metadata": {},
   "outputs": [],
   "source": [
    "connection = sqlite3.connect(\"test.db\")\n",
    "cursor = connection.cursor()"
   ]
  },
  {
   "cell_type": "code",
   "execution_count": 68,
   "metadata": {},
   "outputs": [
    {
     "name": "stdout",
     "output_type": "stream",
     "text": [
      "Error occurred, transaction rolled back.\n",
      "database is locked\n"
     ]
    }
   ],
   "source": [
    "def insert_multiple_employees(employees):\n",
    "    conn = sqlite3.connect('test.db')\n",
    "    cursor = conn.cursor()\n",
    "    try:\n",
    "        cursor.executemany('''\n",
    "            INSERT INTO employees (id, name, age, department)\n",
    "            VALUES (?, ?, ?, ?)\n",
    "        ''', employees)\n",
    "        conn.commit()\n",
    "        print(\"All employees inserted successfully.\")\n",
    "    except Exception as e:\n",
    "        conn.rollback()\n",
    "        print(\"Error occurred, transaction rolled back.\")\n",
    "        print(e)\n",
    "    finally:\n",
    "        conn.close()\n",
    "\n",
    "# Test the function with valid and invalid data\n",
    "employees = [\n",
    "    (6, 'Frank', 40, 'Finance'),\n",
    "    (7, 'Grace', 29, 'Engineering'),\n",
    "    (8, 'Hannah', 35, 'Marketing'),\n",
    "    (9, 'Ivan', 38, 'Sales'),\n",
    "    (6, 'Jack', 45, 'HR')  # Duplicate ID to cause an error\n",
    "]\n",
    "insert_multiple_employees(employees)"
   ]
  }
 ],
 "metadata": {
  "kernelspec": {
   "display_name": "Python 3",
   "language": "python",
   "name": "python3"
  },
  "language_info": {
   "codemirror_mode": {
    "name": "ipython",
    "version": 3
   },
   "file_extension": ".py",
   "mimetype": "text/x-python",
   "name": "python",
   "nbconvert_exporter": "python",
   "pygments_lexer": "ipython3",
   "version": "3.13.0"
  }
 },
 "nbformat": 4,
 "nbformat_minor": 2
}
